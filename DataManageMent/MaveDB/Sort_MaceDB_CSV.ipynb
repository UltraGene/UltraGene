{
 "cells": [
  {
   "cell_type": "code",
   "execution_count": 10,
   "id": "0a35ed3b-c8ba-43ab-ac54-202afb4ec3fc",
   "metadata": {
    "ExecuteTime": {
     "end_time": "2023-11-07T18:10:15.342811+00:00",
     "start_time": "2023-11-07T18:10:12.465120+00:00"
    },
    "datalink": {
     "386a70c4-a074-49d4-baac-7a33b591628b": {
      "applied_filters": [],
      "dataframe_info": {
       "default_index_used": true,
       "orig_num_cols": 5,
       "orig_num_rows": 5,
       "orig_size_bytes": 240,
       "truncated_num_cols": 5,
       "truncated_num_rows": 5,
       "truncated_size_bytes": 240,
       "truncated_string_columns": []
      },
      "display_id": "386a70c4-a074-49d4-baac-7a33b591628b",
      "dx_settings": {
       "ALLOW_NOTEABLE_ATTRS": true,
       "COLUMN_SAMPLING_METHOD": "outer",
       "DB_LOCATION": ":memory:",
       "DEV_MODE": false,
       "DISPLAY_MAX_COLUMNS": 100,
       "DISPLAY_MAX_ROWS": 50000,
       "DISPLAY_MODE": "simple",
       "ENABLE_ASSIGNMENT": true,
       "ENABLE_DATALINK": true,
       "FLATTEN_COLUMN_VALUES": true,
       "FLATTEN_INDEX_VALUES": false,
       "GENERATE_DEX_METADATA": false,
       "HTML_TABLE_SCHEMA": false,
       "LOG_LEVEL": 30,
       "MAX_RENDER_SIZE_BYTES": 104857600,
       "MAX_STRING_LENGTH": 250,
       "NUM_PAST_SAMPLES_TRACKED": 3,
       "RANDOM_STATE": 12648430,
       "RESET_INDEX_VALUES": false,
       "ROW_SAMPLING_METHOD": "random",
       "SAMPLING_FACTOR": 0.1,
       "SAMPLING_METHOD": "random",
       "STRINGIFY_COLUMN_VALUES": true,
       "STRINGIFY_INDEX_VALUES": false
      },
      "sample_history": [],
      "sampling_time": "2023-11-07T18:10:15.184154",
      "user_variable_name": null,
      "variable_name": "unk_dataframe_1cd9cf93cae74c0fb91bd5d9347354be"
     },
     "78619681-e696-46eb-9feb-db2128dae26f": {
      "applied_filters": [],
      "dataframe_info": {
       "default_index_used": false,
       "orig_num_cols": 1,
       "orig_num_rows": 5,
       "orig_size_bytes": 80,
       "truncated_num_cols": 1,
       "truncated_num_rows": 5,
       "truncated_size_bytes": 80,
       "truncated_string_columns": []
      },
      "display_id": "78619681-e696-46eb-9feb-db2128dae26f",
      "dx_settings": {
       "ALLOW_NOTEABLE_ATTRS": true,
       "COLUMN_SAMPLING_METHOD": "outer",
       "DB_LOCATION": ":memory:",
       "DEV_MODE": false,
       "DISPLAY_MAX_COLUMNS": 100,
       "DISPLAY_MAX_ROWS": 50000,
       "DISPLAY_MODE": "simple",
       "ENABLE_ASSIGNMENT": true,
       "ENABLE_DATALINK": true,
       "FLATTEN_COLUMN_VALUES": true,
       "FLATTEN_INDEX_VALUES": false,
       "GENERATE_DEX_METADATA": false,
       "HTML_TABLE_SCHEMA": false,
       "LOG_LEVEL": 30,
       "MAX_RENDER_SIZE_BYTES": 104857600,
       "MAX_STRING_LENGTH": 250,
       "NUM_PAST_SAMPLES_TRACKED": 3,
       "RANDOM_STATE": 12648430,
       "RESET_INDEX_VALUES": false,
       "ROW_SAMPLING_METHOD": "random",
       "SAMPLING_FACTOR": 0.1,
       "SAMPLING_METHOD": "random",
       "STRINGIFY_COLUMN_VALUES": true,
       "STRINGIFY_INDEX_VALUES": false
      },
      "sample_history": [],
      "sampling_time": "2023-11-07T18:09:21.785790",
      "user_variable_name": null,
      "variable_name": "unk_dataframe_09b9adf769f448149c83ed86211e149d"
     },
     "c8636d0c-ca76-43b0-96ac-e39885d2c67c": {
      "applied_filters": [],
      "dataframe_info": {
       "default_index_used": true,
       "orig_num_cols": 5,
       "orig_num_rows": 5,
       "orig_size_bytes": 240,
       "truncated_num_cols": 5,
       "truncated_num_rows": 5,
       "truncated_size_bytes": 240,
       "truncated_string_columns": []
      },
      "display_id": "c8636d0c-ca76-43b0-96ac-e39885d2c67c",
      "dx_settings": {
       "ALLOW_NOTEABLE_ATTRS": true,
       "COLUMN_SAMPLING_METHOD": "outer",
       "DB_LOCATION": ":memory:",
       "DEV_MODE": false,
       "DISPLAY_MAX_COLUMNS": 100,
       "DISPLAY_MAX_ROWS": 50000,
       "DISPLAY_MODE": "simple",
       "ENABLE_ASSIGNMENT": true,
       "ENABLE_DATALINK": true,
       "FLATTEN_COLUMN_VALUES": true,
       "FLATTEN_INDEX_VALUES": false,
       "GENERATE_DEX_METADATA": false,
       "HTML_TABLE_SCHEMA": false,
       "LOG_LEVEL": 30,
       "MAX_RENDER_SIZE_BYTES": 104857600,
       "MAX_STRING_LENGTH": 250,
       "NUM_PAST_SAMPLES_TRACKED": 3,
       "RANDOM_STATE": 12648430,
       "RESET_INDEX_VALUES": false,
       "ROW_SAMPLING_METHOD": "random",
       "SAMPLING_FACTOR": 0.1,
       "SAMPLING_METHOD": "random",
       "STRINGIFY_COLUMN_VALUES": true,
       "STRINGIFY_INDEX_VALUES": false
      },
      "sample_history": [],
      "sampling_time": "2023-11-07T18:04:13.355888",
      "user_variable_name": null,
      "variable_name": "unk_dataframe_a76e2a045ab24ef7ab80b6f90e5672d4"
     }
    },
    "noteable": {
     "cell_type": "code",
     "output_collection_id": "9dfe6137-bf91-423e-8db0-91f8d215a4c7"
    },
    "scrolled": false
   },
   "outputs": [
    {
     "name": "stdout",
     "output_type": "stream",
     "text": [
      "       end_value Ref Alt  Functional score\n",
      "21928     396143   G   C             -0.16\n",
      "22039     396143   G   T              0.17\n",
      "21817     396143   G   A             -0.09\n",
      "21196     396143   G   G             -0.12\n",
      "20973     396144   G   T             -0.01\n"
     ]
    }
   ],
   "source": [
    "import pandas as pd\n",
    "\n",
    "# Load the dataframe\n",
    "df = pd.read_csv('mave_final_dataframe.csv')\n",
    "\n",
    "# Drop rows with any NaN values\n",
    "df_sorted = df.dropna()\n",
    "df_sorted = df_sorted.drop(['gene_name'], axis=1)\n",
    "df_sorted = df_sorted.drop(['start_value'], axis=1)\n",
    "\n",
    "# Sort the dataframe by the first column\n",
    "df_sorted = df_sorted.sort_values(by=df_sorted.columns[0])\n",
    "\n",
    "# Save the sorted dataframe to a new csv file\n",
    "df_sorted.to_csv('sorted_MaveDB.csv', index=False)\n",
    "print(df_sorted.head())"
   ]
  },
  {
   "cell_type": "markdown",
   "id": "5c40ad65-75b5-4cd8-8288-ff71065abb32",
   "metadata": {
    "noteable": {
     "cell_type": "markdown"
    }
   },
   "source": [
    "# Sorting a CSV File in Python\n",
    "\n",
    "This document outlines the steps taken to sort a CSV file by the first column using Python's Pandas library.\n",
    "\n",
    "## Step 1: Importing the Pandas Library\n",
    "\n",
    "Pandas is a fast, powerful, flexible and easy to use open source data analysis and manipulation tool, built on top of the Python programming language.\n",
    "\n",
    "```python\n",
    "import pandas as pd\n",
    "```\n",
    "\n",
    "## Step 2: Loading the Dataframe\n",
    "\n",
    "We load the data from a CSV file into a Pandas dataframe. A dataframe is a 2-dimensional labeled data structure with columns of potentially different types.\n",
    "\n",
    "```python\n",
    "df = pd.read_csv('MaveDB.csv.csv')\n",
    "```\n",
    "\n",
    "## Step 3: Sorting the Dataframe & Drop columns\n",
    "\n",
    "We sort the dataframe based on the first column. The `sort_values`, `drop` method is used, and we specify the column to sort by using `by=df.columns[0]`, which represents the first column in the dataframe.\n",
    "\n",
    "```python\n",
    "df_sorted = df.sort_values(by=df.columns[0])\n",
    "df_sorted = df_sorted.drop(['gene_name'], axis=1)\n",
    "df_sorted = df_sorted.drop(['start_value'], axis=1)\n",
    "```\n",
    "\n",
    "## Step 4: Saving the Sorted Dataframe\n",
    "\n",
    "After sorting the dataframe, we save it to a new CSV file. The `to_csv` method is used for this purpose, and `index=False` is specified to prevent pandas from writing row indices into the CSV file.\n",
    "\n",
    "```python\n",
    "df_sorted.to_csv('sorted_MaveDB.csv.csv', index=False)\n",
    "```\n",
    "\n",
    "## Step 5: Displaying the Sorted Dataframe\n",
    "\n",
    "Finally, we display the first few rows of the sorted dataframe using the `head` method to ensure that the sorting was successful.\n",
    "\n",
    "```python\n",
    "df_sorted.head()\n",
    "```"
   ]
  },
  {
   "cell_type": "markdown",
   "id": "b591ead2-035f-4659-923c-9ba00cb5e4d4",
   "metadata": {
    "noteable": {
     "cell_type": "markdown"
    }
   },
   "source": []
  }
 ],
 "metadata": {
  "kernel_info": {
   "name": "python3"
  },
  "kernelspec": {
   "display_name": "Python 3 (ipykernel)",
   "language": "python",
   "name": "python3"
  },
  "language_info": {
   "codemirror_mode": {
    "name": "ipython",
    "version": 3
   },
   "file_extension": ".py",
   "mimetype": "text/x-python",
   "name": "python",
   "nbconvert_exporter": "python",
   "pygments_lexer": "ipython3",
   "version": "3.11.5"
  },
  "noteable-chatgpt": {
   "create_notebook": {
    "openai_conversation_id": "2b034f56-5968-51b2-ac9a-bf806d30fe40",
    "openai_ephemeral_user_id": "78ef9102-c82e-5f1c-9be4-bf492aeea6ba",
    "openai_subdivision1_iso_code": "US-WA"
   }
  },
  "selected_hardware_size": "small"
 },
 "nbformat": 4,
 "nbformat_minor": 5
}
