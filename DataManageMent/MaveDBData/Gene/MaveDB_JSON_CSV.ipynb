{
 "cells": [
  {
   "cell_type": "code",
   "execution_count": 2,
   "id": "705afaf0",
   "metadata": {},
   "outputs": [
    {
     "ename": "NameError",
     "evalue": "name 'directory_path' is not defined",
     "output_type": "error",
     "traceback": [
      "\u001b[1;31m---------------------------------------------------------------------------\u001b[0m",
      "\u001b[1;31mNameError\u001b[0m                                 Traceback (most recent call last)",
      "\u001b[1;32m~\\AppData\\Local\\Temp/ipykernel_16080/1935224579.py\u001b[0m in \u001b[0;36m<module>\u001b[1;34m\u001b[0m\n\u001b[0;32m     47\u001b[0m     \u001b[0mfinal_df\u001b[0m \u001b[1;33m=\u001b[0m \u001b[0mpd\u001b[0m\u001b[1;33m.\u001b[0m\u001b[0mconcat\u001b[0m\u001b[1;33m(\u001b[0m\u001b[0mdataframes\u001b[0m\u001b[1;33m,\u001b[0m \u001b[0mignore_index\u001b[0m\u001b[1;33m=\u001b[0m\u001b[1;32mTrue\u001b[0m\u001b[1;33m)\u001b[0m\u001b[1;33m\u001b[0m\u001b[1;33m\u001b[0m\u001b[0m\n\u001b[0;32m     48\u001b[0m     \u001b[1;31m# Export the final DataFrame to a CSV file\u001b[0m\u001b[1;33m\u001b[0m\u001b[1;33m\u001b[0m\u001b[0m\n\u001b[1;32m---> 49\u001b[1;33m     \u001b[0mfinal_csv_path\u001b[0m \u001b[1;33m=\u001b[0m \u001b[0mdirectory_path\u001b[0m \u001b[1;33m+\u001b[0m \u001b[1;34m'MaveDV_data.csv'\u001b[0m\u001b[1;33m\u001b[0m\u001b[1;33m\u001b[0m\u001b[0m\n\u001b[0m\u001b[0;32m     50\u001b[0m     \u001b[0mfinal_df\u001b[0m\u001b[1;33m.\u001b[0m\u001b[0mto_csv\u001b[0m\u001b[1;33m(\u001b[0m\u001b[0mfinal_csv_path\u001b[0m\u001b[1;33m,\u001b[0m \u001b[0mindex\u001b[0m\u001b[1;33m=\u001b[0m\u001b[1;32mFalse\u001b[0m\u001b[1;33m)\u001b[0m\u001b[1;33m\u001b[0m\u001b[1;33m\u001b[0m\u001b[0m\n\u001b[0;32m     51\u001b[0m \u001b[1;32melse\u001b[0m\u001b[1;33m:\u001b[0m\u001b[1;33m\u001b[0m\u001b[1;33m\u001b[0m\u001b[0m\n",
      "\u001b[1;31mNameError\u001b[0m: name 'directory_path' is not defined"
     ]
    }
   ],
   "source": [
    "import pandas as pd\n",
    "import json\n",
    "import glob\n",
    "import os\n",
    "\n",
    "# Corrected the directory path to include a slash at the end\n",
    "# directory_path = '<PATH>'\n",
    "\n",
    "# Use os.path.dirname(os.path.abspath(__file__)) to get the current directory of the script\n",
    "# directory_path = os.path.dirname(os.path.abspath(__file__)) + '/'\n",
    "# directory_path ='C:/Users/ROG/PycharmProjects/data/Gene'\n",
    "\n",
    "\n",
    "# Using glob.glob to match the JSON file extension\n",
    "json_files = glob.glob('*.json')\n",
    "\n",
    "dataframes = []\n",
    "\n",
    "for file_path in json_files:\n",
    "    with open(file_path, 'r') as file:\n",
    "        data = json.load(file)\n",
    "        data = [data] if isinstance(data, dict) else data\n",
    "        df = pd.json_normalize(data)\n",
    "\n",
    "        gene_name = df['targetGene.name'].iloc[0] if 'targetGene.name' in df.columns else None\n",
    "\n",
    "        # Check if 'mapped_scores' is in the DataFrame and it's not empty\n",
    "        if 'mapped_scores' in df.columns and not df['mapped_scores'].isnull().all():\n",
    "            # Extracting data from 'mapped_scores'\n",
    "            for scores in df['mapped_scores'].dropna():\n",
    "                extracted_data = [{\n",
    "                    # 'gene_name': gene_name,\n",
    "                    # 'start_value': item.get('post_mapped', {}).get('variation', {}).get('location', {}).get('interval', {}).get('start', {}).get('value'),\n",
    "                    'end_value': item.get('post_mapped', {}).get('variation', {}).get('location', {}).get('interval', {}).get('end', {}).get('value'),\n",
    "                    'Ref': item.get('post_mapped', {}).get('vrs_ref_allele_seq'),\n",
    "                    'Alt': item.get('post_mapped', {}).get('variation', {}).get('state', {}).get('sequence'),\n",
    "                    'Functional score': item.get('score')\n",
    "                } for item in scores if item.get('post_mapped')]\n",
    "\n",
    "                # Only append if extracted_data is not empty\n",
    "                if extracted_data:\n",
    "                    df_extracted = pd.DataFrame(extracted_data)\n",
    "                    dataframes.append(df_extracted)\n",
    "\n",
    "# Concatenate all the DataFrames into one if dataframes is not empty\n",
    "if dataframes:\n",
    "    final_df = pd.concat(dataframes, ignore_index=True)\n",
    "    # Export the final DataFrame to a CSV file\n",
    "    final_csv_path = directory_path + 'MaveDV_data.csv'\n",
    "    final_df.to_csv(final_csv_path, index=False)\n",
    "else:\n",
    "    print(\"No dataframes were created, please check your JSON structure or 'mapped_scores' content.\")"
   ]
  },
  {
   "cell_type": "code",
   "execution_count": null,
   "id": "864d3be5",
   "metadata": {},
   "outputs": [],
   "source": []
  }
 ],
 "metadata": {
  "kernel_info": {
   "name": "python3.9-noteable"
  },
  "kernelspec": {
   "display_name": "Python 3 (ipykernel)",
   "language": "python",
   "name": "python3"
  },
  "language_info": {
   "codemirror_mode": {
    "name": "ipython",
    "version": 3
   },
   "file_extension": ".py",
   "mimetype": "text/x-python",
   "name": "python",
   "nbconvert_exporter": "python",
   "pygments_lexer": "ipython3",
   "version": "3.9.7"
  },
  "selected_hardware_size": "small"
 },
 "nbformat": 4,
 "nbformat_minor": 5
}
