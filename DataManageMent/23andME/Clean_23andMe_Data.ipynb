{
 "cells": [
  {
   "cell_type": "code",
   "execution_count": 1,
   "id": "d3f98ffe-eebf-46cd-a1df-85d5460d4308",
   "metadata": {
    "ExecuteTime": {
     "end_time": "2023-11-09T18:30:58.397013+00:00",
     "start_time": "2023-11-09T18:30:57.691836+00:00"
    },
    "datalink": {
     "f7705003-9b6f-4e98-a811-1f9235e743e3": {
      "applied_filters": [],
      "dataframe_info": {
       "default_index_used": true,
       "orig_num_cols": 4,
       "orig_num_rows": 5,
       "orig_size_bytes": 200,
       "truncated_num_cols": 4,
       "truncated_num_rows": 5,
       "truncated_size_bytes": 200,
       "truncated_string_columns": []
      },
      "display_id": "f7705003-9b6f-4e98-a811-1f9235e743e3",
      "dx_settings": {
       "ALLOW_NOTEABLE_ATTRS": true,
       "COLUMN_SAMPLING_METHOD": "outer",
       "DB_LOCATION": ":memory:",
       "DEV_MODE": false,
       "DISPLAY_MAX_COLUMNS": 100,
       "DISPLAY_MAX_ROWS": 50000,
       "DISPLAY_MODE": "simple",
       "ENABLE_ASSIGNMENT": true,
       "ENABLE_DATALINK": true,
       "FLATTEN_COLUMN_VALUES": true,
       "FLATTEN_INDEX_VALUES": false,
       "GENERATE_DEX_METADATA": false,
       "HTML_TABLE_SCHEMA": false,
       "LOG_LEVEL": 30,
       "MAX_RENDER_SIZE_BYTES": 104857600,
       "MAX_STRING_LENGTH": 250,
       "NUM_PAST_SAMPLES_TRACKED": 3,
       "RANDOM_STATE": 12648430,
       "RESET_INDEX_VALUES": false,
       "ROW_SAMPLING_METHOD": "random",
       "SAMPLING_FACTOR": 0.1,
       "SAMPLING_METHOD": "random",
       "STRINGIFY_COLUMN_VALUES": true,
       "STRINGIFY_INDEX_VALUES": false
      },
      "sample_history": [],
      "sampling_time": "2023-11-09T18:30:58.234725",
      "user_variable_name": null,
      "variable_name": "unk_dataframe_d334d00d387e4bfb91fa4dcfa5e8ba5f"
     }
    },
    "noteable": {
     "cell_type": "code",
     "output_collection_id": "99729aa0-e0c3-42a6-b45e-8e36cf634f51"
    }
   },
   "outputs": [
    {
     "name": "stderr",
     "output_type": "stream",
     "text": [
      "C:\\Users\\ROG\\anaconda3\\lib\\site-packages\\IPython\\core\\interactiveshell.py:3444: DtypeWarning: Columns (1) have mixed types.Specify dtype option on import or set low_memory=False.\n",
      "  exec(code_obj, self.user_global_ns, self.user_ns)\n"
     ]
    },
    {
     "data": {
      "text/html": [
       "<div>\n",
       "<style scoped>\n",
       "    .dataframe tbody tr th:only-of-type {\n",
       "        vertical-align: middle;\n",
       "    }\n",
       "\n",
       "    .dataframe tbody tr th {\n",
       "        vertical-align: top;\n",
       "    }\n",
       "\n",
       "    .dataframe thead th {\n",
       "        text-align: right;\n",
       "    }\n",
       "</style>\n",
       "<table border=\"1\" class=\"dataframe\">\n",
       "  <thead>\n",
       "    <tr style=\"text-align: right;\">\n",
       "      <th></th>\n",
       "      <th>0</th>\n",
       "      <th>1</th>\n",
       "      <th>2</th>\n",
       "      <th>3</th>\n",
       "    </tr>\n",
       "  </thead>\n",
       "  <tbody>\n",
       "    <tr>\n",
       "      <th>0</th>\n",
       "      <td>rs12564807</td>\n",
       "      <td>1</td>\n",
       "      <td>734462</td>\n",
       "      <td>AA</td>\n",
       "    </tr>\n",
       "    <tr>\n",
       "      <th>1</th>\n",
       "      <td>rs3131972</td>\n",
       "      <td>1</td>\n",
       "      <td>752721</td>\n",
       "      <td>AG</td>\n",
       "    </tr>\n",
       "    <tr>\n",
       "      <th>2</th>\n",
       "      <td>rs148828841</td>\n",
       "      <td>1</td>\n",
       "      <td>760998</td>\n",
       "      <td>CC</td>\n",
       "    </tr>\n",
       "    <tr>\n",
       "      <th>3</th>\n",
       "      <td>rs12124819</td>\n",
       "      <td>1</td>\n",
       "      <td>776546</td>\n",
       "      <td>AG</td>\n",
       "    </tr>\n",
       "    <tr>\n",
       "      <th>4</th>\n",
       "      <td>rs115093905</td>\n",
       "      <td>1</td>\n",
       "      <td>787173</td>\n",
       "      <td>--</td>\n",
       "    </tr>\n",
       "  </tbody>\n",
       "</table>\n",
       "</div>"
      ],
      "text/plain": [
       "             0  1       2   3\n",
       "0   rs12564807  1  734462  AA\n",
       "1    rs3131972  1  752721  AG\n",
       "2  rs148828841  1  760998  CC\n",
       "3   rs12124819  1  776546  AG\n",
       "4  rs115093905  1  787173  --"
      ]
     },
     "execution_count": 1,
     "metadata": {},
     "output_type": "execute_result"
    }
   ],
   "source": [
    "import pandas as pd\n",
    "\n",
    "# Load the data\n",
    "file_path = '23andMe_data.txt'\n",
    "data = pd.read_csv(file_path, sep='\\t', comment='#', header=None)\n",
    "\n",
    "# Display the first few rows of the dataframe\n",
    "data.head()"
   ]
  },
  {
   "cell_type": "code",
   "execution_count": 2,
   "id": "9170ace3-6904-4106-a5c5-61aa6c4254a8",
   "metadata": {
    "ExecuteTime": {
     "end_time": "2023-11-09T18:31:15.166170+00:00",
     "start_time": "2023-11-09T18:31:13.682759+00:00"
    },
    "datalink": {
     "2f18a6f9-9fd1-464c-ac97-9c25858ca0dd": {
      "applied_filters": [],
      "dataframe_info": {
       "default_index_used": true,
       "orig_num_cols": 4,
       "orig_num_rows": 5,
       "orig_size_bytes": 200,
       "truncated_num_cols": 4,
       "truncated_num_rows": 5,
       "truncated_size_bytes": 200,
       "truncated_string_columns": []
      },
      "display_id": "2f18a6f9-9fd1-464c-ac97-9c25858ca0dd",
      "dx_settings": {
       "ALLOW_NOTEABLE_ATTRS": true,
       "COLUMN_SAMPLING_METHOD": "outer",
       "DB_LOCATION": ":memory:",
       "DEV_MODE": false,
       "DISPLAY_MAX_COLUMNS": 100,
       "DISPLAY_MAX_ROWS": 50000,
       "DISPLAY_MODE": "simple",
       "ENABLE_ASSIGNMENT": true,
       "ENABLE_DATALINK": true,
       "FLATTEN_COLUMN_VALUES": true,
       "FLATTEN_INDEX_VALUES": false,
       "GENERATE_DEX_METADATA": false,
       "HTML_TABLE_SCHEMA": false,
       "LOG_LEVEL": 30,
       "MAX_RENDER_SIZE_BYTES": 104857600,
       "MAX_STRING_LENGTH": 250,
       "NUM_PAST_SAMPLES_TRACKED": 3,
       "RANDOM_STATE": 12648430,
       "RESET_INDEX_VALUES": false,
       "ROW_SAMPLING_METHOD": "random",
       "SAMPLING_FACTOR": 0.1,
       "SAMPLING_METHOD": "random",
       "STRINGIFY_COLUMN_VALUES": true,
       "STRINGIFY_INDEX_VALUES": false
      },
      "sample_history": [],
      "sampling_time": "2023-11-09T18:31:15.007436",
      "user_variable_name": null,
      "variable_name": "unk_dataframe_839e252c194f4616bc0bc085f32a250a"
     }
    },
    "noteable": {
     "cell_type": "code",
     "output_collection_id": "fd21aff7-69f2-49b4-8353-d058b41db8b3"
    }
   },
   "outputs": [
    {
     "data": {
      "text/html": [
       "<div>\n",
       "<style scoped>\n",
       "    .dataframe tbody tr th:only-of-type {\n",
       "        vertical-align: middle;\n",
       "    }\n",
       "\n",
       "    .dataframe tbody tr th {\n",
       "        vertical-align: top;\n",
       "    }\n",
       "\n",
       "    .dataframe thead th {\n",
       "        text-align: right;\n",
       "    }\n",
       "</style>\n",
       "<table border=\"1\" class=\"dataframe\">\n",
       "  <thead>\n",
       "    <tr style=\"text-align: right;\">\n",
       "      <th></th>\n",
       "      <th>rsid</th>\n",
       "      <th>chromosome</th>\n",
       "      <th>position</th>\n",
       "      <th>genotype</th>\n",
       "    </tr>\n",
       "  </thead>\n",
       "  <tbody>\n",
       "    <tr>\n",
       "      <th>0</th>\n",
       "      <td>rs12564807</td>\n",
       "      <td>1</td>\n",
       "      <td>734462</td>\n",
       "      <td>AA</td>\n",
       "    </tr>\n",
       "    <tr>\n",
       "      <th>1</th>\n",
       "      <td>rs3131972</td>\n",
       "      <td>1</td>\n",
       "      <td>752721</td>\n",
       "      <td>AG</td>\n",
       "    </tr>\n",
       "    <tr>\n",
       "      <th>2</th>\n",
       "      <td>rs148828841</td>\n",
       "      <td>1</td>\n",
       "      <td>760998</td>\n",
       "      <td>CC</td>\n",
       "    </tr>\n",
       "    <tr>\n",
       "      <th>3</th>\n",
       "      <td>rs12124819</td>\n",
       "      <td>1</td>\n",
       "      <td>776546</td>\n",
       "      <td>AG</td>\n",
       "    </tr>\n",
       "    <tr>\n",
       "      <th>4</th>\n",
       "      <td>rs115093905</td>\n",
       "      <td>1</td>\n",
       "      <td>787173</td>\n",
       "      <td>--</td>\n",
       "    </tr>\n",
       "  </tbody>\n",
       "</table>\n",
       "</div>"
      ],
      "text/plain": [
       "          rsid chromosome  position genotype\n",
       "0   rs12564807          1    734462       AA\n",
       "1    rs3131972          1    752721       AG\n",
       "2  rs148828841          1    760998       CC\n",
       "3   rs12124819          1    776546       AG\n",
       "4  rs115093905          1    787173       --"
      ]
     },
     "execution_count": 2,
     "metadata": {},
     "output_type": "execute_result"
    }
   ],
   "source": [
    "# Renaming columns for clarity\n",
    "# Assuming the columns represent ['rsid', 'chromosome', 'position', 'genotype']\n",
    "data.columns = ['rsid', 'chromosome', 'position', 'genotype']\n",
    "\n",
    "# Sorting the data\n",
    "# Assuming sorting by 'chromosome' and 'position' in ascending order\n",
    "sorted_data = data.sort_values(by=['chromosome', 'position'])\n",
    "\n",
    "# Saving the cleaned and sorted data to a new CSV file\n",
    "sorted_data.to_csv('Cleaned_23andMe.csv', index=False)\n",
    "\n",
    "# Display the first few rows of the sorted dataframe\n",
    "sorted_data.head()"
   ]
  },
  {
   "cell_type": "code",
   "execution_count": 3,
   "id": "8bc3f38f-a23c-477a-8a8c-0f6d7313a80c",
   "metadata": {
    "ExecuteTime": {
     "end_time": "2023-11-09T18:34:33.579089+00:00",
     "start_time": "2023-11-09T18:34:32.096635+00:00"
    },
    "datalink": {
     "01785cae-0a7c-484d-95f0-48b1e3b72ca8": {
      "applied_filters": [],
      "dataframe_info": {
       "default_index_used": true,
       "orig_num_cols": 4,
       "orig_num_rows": 5,
       "orig_size_bytes": 200,
       "truncated_num_cols": 4,
       "truncated_num_rows": 5,
       "truncated_size_bytes": 200,
       "truncated_string_columns": []
      },
      "display_id": "01785cae-0a7c-484d-95f0-48b1e3b72ca8",
      "dx_settings": {
       "ALLOW_NOTEABLE_ATTRS": true,
       "COLUMN_SAMPLING_METHOD": "outer",
       "DB_LOCATION": ":memory:",
       "DEV_MODE": false,
       "DISPLAY_MAX_COLUMNS": 100,
       "DISPLAY_MAX_ROWS": 50000,
       "DISPLAY_MODE": "simple",
       "ENABLE_ASSIGNMENT": true,
       "ENABLE_DATALINK": true,
       "FLATTEN_COLUMN_VALUES": true,
       "FLATTEN_INDEX_VALUES": false,
       "GENERATE_DEX_METADATA": false,
       "HTML_TABLE_SCHEMA": false,
       "LOG_LEVEL": 30,
       "MAX_RENDER_SIZE_BYTES": 104857600,
       "MAX_STRING_LENGTH": 250,
       "NUM_PAST_SAMPLES_TRACKED": 3,
       "RANDOM_STATE": 12648430,
       "RESET_INDEX_VALUES": false,
       "ROW_SAMPLING_METHOD": "random",
       "SAMPLING_FACTOR": 0.1,
       "SAMPLING_METHOD": "random",
       "STRINGIFY_COLUMN_VALUES": true,
       "STRINGIFY_INDEX_VALUES": false
      },
      "sample_history": [],
      "sampling_time": "2023-11-09T18:34:33.420523",
      "user_variable_name": null,
      "variable_name": "unk_dataframe_04e1a31eafe24527944f621e9d32e2cb"
     }
    },
    "noteable": {
     "cell_type": "code",
     "output_collection_id": "ba23276a-8b8c-4277-83a8-ddb59e4c620e"
    }
   },
   "outputs": [
    {
     "data": {
      "text/html": [
       "<div>\n",
       "<style scoped>\n",
       "    .dataframe tbody tr th:only-of-type {\n",
       "        vertical-align: middle;\n",
       "    }\n",
       "\n",
       "    .dataframe tbody tr th {\n",
       "        vertical-align: top;\n",
       "    }\n",
       "\n",
       "    .dataframe thead th {\n",
       "        text-align: right;\n",
       "    }\n",
       "</style>\n",
       "<table border=\"1\" class=\"dataframe\">\n",
       "  <thead>\n",
       "    <tr style=\"text-align: right;\">\n",
       "      <th></th>\n",
       "      <th>rsid</th>\n",
       "      <th>chromosome</th>\n",
       "      <th>position</th>\n",
       "      <th>genotype</th>\n",
       "    </tr>\n",
       "  </thead>\n",
       "  <tbody>\n",
       "    <tr>\n",
       "      <th>0</th>\n",
       "      <td>rs12564807</td>\n",
       "      <td>1</td>\n",
       "      <td>734462</td>\n",
       "      <td>AA</td>\n",
       "    </tr>\n",
       "    <tr>\n",
       "      <th>1</th>\n",
       "      <td>rs3131972</td>\n",
       "      <td>1</td>\n",
       "      <td>752721</td>\n",
       "      <td>AG</td>\n",
       "    </tr>\n",
       "    <tr>\n",
       "      <th>2</th>\n",
       "      <td>rs148828841</td>\n",
       "      <td>1</td>\n",
       "      <td>760998</td>\n",
       "      <td>CC</td>\n",
       "    </tr>\n",
       "    <tr>\n",
       "      <th>3</th>\n",
       "      <td>rs12124819</td>\n",
       "      <td>1</td>\n",
       "      <td>776546</td>\n",
       "      <td>AG</td>\n",
       "    </tr>\n",
       "    <tr>\n",
       "      <th>5</th>\n",
       "      <td>rs11240777</td>\n",
       "      <td>1</td>\n",
       "      <td>798959</td>\n",
       "      <td>AG</td>\n",
       "    </tr>\n",
       "  </tbody>\n",
       "</table>\n",
       "</div>"
      ],
      "text/plain": [
       "          rsid chromosome  position genotype\n",
       "0   rs12564807          1    734462       AA\n",
       "1    rs3131972          1    752721       AG\n",
       "2  rs148828841          1    760998       CC\n",
       "3   rs12124819          1    776546       AG\n",
       "5   rs11240777          1    798959       AG"
      ]
     },
     "execution_count": 3,
     "metadata": {},
     "output_type": "execute_result"
    }
   ],
   "source": [
    "# Dropping rows with empty values or '--' in the 'genotype' column\n",
    "filtered_data = sorted_data[sorted_data['genotype'] != '--']\n",
    "\n",
    "# Saving the filtered and sorted data to a new CSV file\n",
    "filtered_data.to_csv('Cleaned_23andMe.csv', index=False)\n",
    "\n",
    "# Display the first few rows of the filtered dataframe\n",
    "filtered_data.head()"
   ]
  },
  {
   "cell_type": "code",
   "execution_count": 4,
   "id": "35310420-b5a7-4df8-8732-955cda8774b6",
   "metadata": {
    "ExecuteTime": {
     "end_time": "2023-11-09T18:35:53.701404+00:00",
     "start_time": "2023-11-09T18:35:52.327502+00:00"
    },
    "datalink": {
     "e76825e9-9b0d-438c-babb-87741fd280c2": {
      "applied_filters": [],
      "dataframe_info": {
       "default_index_used": true,
       "orig_num_cols": 2,
       "orig_num_rows": 5,
       "orig_size_bytes": 120,
       "truncated_num_cols": 2,
       "truncated_num_rows": 5,
       "truncated_size_bytes": 120,
       "truncated_string_columns": []
      },
      "display_id": "e76825e9-9b0d-438c-babb-87741fd280c2",
      "dx_settings": {
       "ALLOW_NOTEABLE_ATTRS": true,
       "COLUMN_SAMPLING_METHOD": "outer",
       "DB_LOCATION": ":memory:",
       "DEV_MODE": false,
       "DISPLAY_MAX_COLUMNS": 100,
       "DISPLAY_MAX_ROWS": 50000,
       "DISPLAY_MODE": "simple",
       "ENABLE_ASSIGNMENT": true,
       "ENABLE_DATALINK": true,
       "FLATTEN_COLUMN_VALUES": true,
       "FLATTEN_INDEX_VALUES": false,
       "GENERATE_DEX_METADATA": false,
       "HTML_TABLE_SCHEMA": false,
       "LOG_LEVEL": 30,
       "MAX_RENDER_SIZE_BYTES": 104857600,
       "MAX_STRING_LENGTH": 250,
       "NUM_PAST_SAMPLES_TRACKED": 3,
       "RANDOM_STATE": 12648430,
       "RESET_INDEX_VALUES": false,
       "ROW_SAMPLING_METHOD": "random",
       "SAMPLING_FACTOR": 0.1,
       "SAMPLING_METHOD": "random",
       "STRINGIFY_COLUMN_VALUES": true,
       "STRINGIFY_INDEX_VALUES": false
      },
      "sample_history": [],
      "sampling_time": "2023-11-09T18:35:53.543437",
      "user_variable_name": null,
      "variable_name": "unk_dataframe_3dab1cd976a34f4ea968bd2db3eeb84f"
     }
    },
    "noteable": {
     "cell_type": "code",
     "output_collection_id": "498126f3-5a67-494e-ba38-2e7ba746b75f"
    }
   },
   "outputs": [
    {
     "data": {
      "text/html": [
       "<div>\n",
       "<style scoped>\n",
       "    .dataframe tbody tr th:only-of-type {\n",
       "        vertical-align: middle;\n",
       "    }\n",
       "\n",
       "    .dataframe tbody tr th {\n",
       "        vertical-align: top;\n",
       "    }\n",
       "\n",
       "    .dataframe thead th {\n",
       "        text-align: right;\n",
       "    }\n",
       "</style>\n",
       "<table border=\"1\" class=\"dataframe\">\n",
       "  <thead>\n",
       "    <tr style=\"text-align: right;\">\n",
       "      <th></th>\n",
       "      <th>position</th>\n",
       "      <th>genotype</th>\n",
       "    </tr>\n",
       "  </thead>\n",
       "  <tbody>\n",
       "    <tr>\n",
       "      <th>0</th>\n",
       "      <td>734462</td>\n",
       "      <td>AA</td>\n",
       "    </tr>\n",
       "    <tr>\n",
       "      <th>1</th>\n",
       "      <td>752721</td>\n",
       "      <td>AG</td>\n",
       "    </tr>\n",
       "    <tr>\n",
       "      <th>2</th>\n",
       "      <td>760998</td>\n",
       "      <td>CC</td>\n",
       "    </tr>\n",
       "    <tr>\n",
       "      <th>3</th>\n",
       "      <td>776546</td>\n",
       "      <td>AG</td>\n",
       "    </tr>\n",
       "    <tr>\n",
       "      <th>5</th>\n",
       "      <td>798959</td>\n",
       "      <td>AG</td>\n",
       "    </tr>\n",
       "  </tbody>\n",
       "</table>\n",
       "</div>"
      ],
      "text/plain": [
       "   position genotype\n",
       "0    734462       AA\n",
       "1    752721       AG\n",
       "2    760998       CC\n",
       "3    776546       AG\n",
       "5    798959       AG"
      ]
     },
     "execution_count": 4,
     "metadata": {},
     "output_type": "execute_result"
    }
   ],
   "source": [
    "# Dropping the 'rsid' and 'chromosome' columns\n",
    "final_data = filtered_data.drop(['rsid', 'chromosome'], axis=1)\n",
    "\n",
    "# Saving the final data to a new CSV file\n",
    "final_data.to_csv('Cleaned_23andMe.csv', index=False)\n",
    "\n",
    "# Display the first few rows of the final dataframe\n",
    "final_data.head()"
   ]
  },
  {
   "cell_type": "code",
   "execution_count": 5,
   "id": "3b2e3912-d22d-40c4-996b-4ac4f1bf2a7f",
   "metadata": {
    "ExecuteTime": {
     "end_time": "2023-11-09T18:44:33.052593+00:00",
     "start_time": "2023-11-09T18:44:31.895304+00:00"
    },
    "noteable": {
     "cell_type": "code",
     "output_collection_id": "327d1332-eb8c-46bd-9491-65129ab5c3c1"
    }
   },
   "outputs": [
    {
     "data": {
      "text/html": [
       "<div>\n",
       "<style scoped>\n",
       "    .dataframe tbody tr th:only-of-type {\n",
       "        vertical-align: middle;\n",
       "    }\n",
       "\n",
       "    .dataframe tbody tr th {\n",
       "        vertical-align: top;\n",
       "    }\n",
       "\n",
       "    .dataframe thead th {\n",
       "        text-align: right;\n",
       "    }\n",
       "</style>\n",
       "<table border=\"1\" class=\"dataframe\">\n",
       "  <thead>\n",
       "    <tr style=\"text-align: right;\">\n",
       "      <th></th>\n",
       "      <th>position</th>\n",
       "      <th>genotype</th>\n",
       "    </tr>\n",
       "  </thead>\n",
       "  <tbody>\n",
       "    <tr>\n",
       "      <th>0</th>\n",
       "      <td>734462</td>\n",
       "      <td>A</td>\n",
       "    </tr>\n",
       "    <tr>\n",
       "      <th>1</th>\n",
       "      <td>734462</td>\n",
       "      <td>A</td>\n",
       "    </tr>\n",
       "    <tr>\n",
       "      <th>2</th>\n",
       "      <td>752721</td>\n",
       "      <td>A</td>\n",
       "    </tr>\n",
       "    <tr>\n",
       "      <th>3</th>\n",
       "      <td>752721</td>\n",
       "      <td>G</td>\n",
       "    </tr>\n",
       "    <tr>\n",
       "      <th>4</th>\n",
       "      <td>760998</td>\n",
       "      <td>C</td>\n",
       "    </tr>\n",
       "  </tbody>\n",
       "</table>\n",
       "</div>"
      ],
      "text/plain": [
       "   position genotype\n",
       "0    734462        A\n",
       "1    734462        A\n",
       "2    752721        A\n",
       "3    752721        G\n",
       "4    760998        C"
      ]
     },
     "execution_count": 5,
     "metadata": {},
     "output_type": "execute_result"
    }
   ],
   "source": [
    "# Splitting the genotype column into separate rows\n",
    "expanded_data = final_data.set_index('position')['genotype'].apply(list).explode().reset_index()\n",
    "\n",
    "# Renaming the column for clarity\n",
    "expanded_data.columns = ['position', 'genotype']\n",
    "\n",
    "# Saving the expanded data to a new CSV file\n",
    "expanded_data.to_csv('Expanded_23andMe.csv', index=False)\n",
    "\n",
    "# Display the first few rows of the expanded dataframe\n",
    "expanded_data.head()"
   ]
  },
  {
   "cell_type": "code",
   "execution_count": 6,
   "id": "5bf4ec9d-6ff3-4bcd-b611-70870c3e3aac",
   "metadata": {
    "ExecuteTime": {
     "end_time": "2023-11-09T18:44:52.406472+00:00",
     "start_time": "2023-11-09T18:44:49.693777+00:00"
    },
    "datalink": {
     "7b5e4f02-285c-412a-9fe2-92e9b22668ec": {
      "applied_filters": [],
      "dataframe_info": {
       "default_index_used": true,
       "orig_num_cols": 2,
       "orig_num_rows": 5,
       "orig_size_bytes": 120,
       "truncated_num_cols": 2,
       "truncated_num_rows": 5,
       "truncated_size_bytes": 120,
       "truncated_string_columns": []
      },
      "display_id": "7b5e4f02-285c-412a-9fe2-92e9b22668ec",
      "dx_settings": {
       "ALLOW_NOTEABLE_ATTRS": true,
       "COLUMN_SAMPLING_METHOD": "outer",
       "DB_LOCATION": ":memory:",
       "DEV_MODE": false,
       "DISPLAY_MAX_COLUMNS": 100,
       "DISPLAY_MAX_ROWS": 50000,
       "DISPLAY_MODE": "simple",
       "ENABLE_ASSIGNMENT": true,
       "ENABLE_DATALINK": true,
       "FLATTEN_COLUMN_VALUES": true,
       "FLATTEN_INDEX_VALUES": false,
       "GENERATE_DEX_METADATA": false,
       "HTML_TABLE_SCHEMA": false,
       "LOG_LEVEL": 30,
       "MAX_RENDER_SIZE_BYTES": 104857600,
       "MAX_STRING_LENGTH": 250,
       "NUM_PAST_SAMPLES_TRACKED": 3,
       "RANDOM_STATE": 12648430,
       "RESET_INDEX_VALUES": false,
       "ROW_SAMPLING_METHOD": "random",
       "SAMPLING_FACTOR": 0.1,
       "SAMPLING_METHOD": "random",
       "STRINGIFY_COLUMN_VALUES": true,
       "STRINGIFY_INDEX_VALUES": false
      },
      "sample_history": [],
      "sampling_time": "2023-11-09T18:44:52.248122",
      "user_variable_name": null,
      "variable_name": "unk_dataframe_db3d40e6d1ae47dcab62bf71dce537f7"
     }
    },
    "noteable": {
     "cell_type": "code",
     "output_collection_id": "8edee59c-7a29-47de-844c-861c7417253d"
    }
   },
   "outputs": [
    {
     "data": {
      "text/html": [
       "<div>\n",
       "<style scoped>\n",
       "    .dataframe tbody tr th:only-of-type {\n",
       "        vertical-align: middle;\n",
       "    }\n",
       "\n",
       "    .dataframe tbody tr th {\n",
       "        vertical-align: top;\n",
       "    }\n",
       "\n",
       "    .dataframe thead th {\n",
       "        text-align: right;\n",
       "    }\n",
       "</style>\n",
       "<table border=\"1\" class=\"dataframe\">\n",
       "  <thead>\n",
       "    <tr style=\"text-align: right;\">\n",
       "      <th></th>\n",
       "      <th>position</th>\n",
       "      <th>genotype</th>\n",
       "    </tr>\n",
       "  </thead>\n",
       "  <tbody>\n",
       "    <tr>\n",
       "      <th>0</th>\n",
       "      <td>734462</td>\n",
       "      <td>A</td>\n",
       "    </tr>\n",
       "    <tr>\n",
       "      <th>1</th>\n",
       "      <td>734462</td>\n",
       "      <td>A</td>\n",
       "    </tr>\n",
       "    <tr>\n",
       "      <th>2</th>\n",
       "      <td>752721</td>\n",
       "      <td>A</td>\n",
       "    </tr>\n",
       "    <tr>\n",
       "      <th>3</th>\n",
       "      <td>752721</td>\n",
       "      <td>G</td>\n",
       "    </tr>\n",
       "    <tr>\n",
       "      <th>4</th>\n",
       "      <td>760998</td>\n",
       "      <td>C</td>\n",
       "    </tr>\n",
       "  </tbody>\n",
       "</table>\n",
       "</div>"
      ],
      "text/plain": [
       "   position genotype\n",
       "0    734462        A\n",
       "1    734462        A\n",
       "2    752721        A\n",
       "3    752721        G\n",
       "4    760998        C"
      ]
     },
     "execution_count": 6,
     "metadata": {},
     "output_type": "execute_result"
    }
   ],
   "source": [
    "# Correcting the code to split the genotype column into separate rows\n",
    "# First, we need to revert to the data before dropping 'rsid' and 'chromosome' columns\n",
    "final_data = filtered_data.drop(['rsid', 'chromosome'], axis=1)\n",
    "\n",
    "# Now, splitting the genotype column\n",
    "expanded_data = final_data.set_index('position')['genotype'].apply(list).explode().reset_index()\n",
    "\n",
    "# Renaming the column for clarity\n",
    "expanded_data.columns = ['position', 'genotype']\n",
    "\n",
    "# Saving the expanded data to a new CSV file\n",
    "expanded_data.to_csv('Expanded_23andMe.csv', index=False)\n",
    "\n",
    "# Display the first few rows of the expanded dataframe\n",
    "expanded_data.head()"
   ]
  },
  {
   "cell_type": "code",
   "execution_count": 7,
   "id": "24339214-2918-4d25-90fd-29872060a117",
   "metadata": {
    "ExecuteTime": {
     "end_time": "2023-11-09T18:48:27.886082+00:00",
     "start_time": "2023-11-09T18:48:25.138243+00:00"
    },
    "datalink": {
     "7a388ab7-5be2-491c-92c0-f8d950206cf2": {
      "applied_filters": [],
      "dataframe_info": {
       "default_index_used": true,
       "orig_num_cols": 3,
       "orig_num_rows": 5,
       "orig_size_bytes": 160,
       "truncated_num_cols": 3,
       "truncated_num_rows": 5,
       "truncated_size_bytes": 160,
       "truncated_string_columns": []
      },
      "display_id": "7a388ab7-5be2-491c-92c0-f8d950206cf2",
      "dx_settings": {
       "ALLOW_NOTEABLE_ATTRS": true,
       "COLUMN_SAMPLING_METHOD": "outer",
       "DB_LOCATION": ":memory:",
       "DEV_MODE": false,
       "DISPLAY_MAX_COLUMNS": 100,
       "DISPLAY_MAX_ROWS": 50000,
       "DISPLAY_MODE": "simple",
       "ENABLE_ASSIGNMENT": true,
       "ENABLE_DATALINK": true,
       "FLATTEN_COLUMN_VALUES": true,
       "FLATTEN_INDEX_VALUES": false,
       "GENERATE_DEX_METADATA": false,
       "HTML_TABLE_SCHEMA": false,
       "LOG_LEVEL": 30,
       "MAX_RENDER_SIZE_BYTES": 104857600,
       "MAX_STRING_LENGTH": 250,
       "NUM_PAST_SAMPLES_TRACKED": 3,
       "RANDOM_STATE": 12648430,
       "RESET_INDEX_VALUES": false,
       "ROW_SAMPLING_METHOD": "random",
       "SAMPLING_FACTOR": 0.1,
       "SAMPLING_METHOD": "random",
       "STRINGIFY_COLUMN_VALUES": true,
       "STRINGIFY_INDEX_VALUES": false
      },
      "sample_history": [],
      "sampling_time": "2023-11-09T18:48:27.717187",
      "user_variable_name": null,
      "variable_name": "unk_dataframe_5b9092a04ac941bbaff6d65968f6541b"
     }
    },
    "noteable": {
     "cell_type": "code",
     "output_collection_id": "da62bcb4-e15d-4ee6-ab64-f37ed87b35cd"
    }
   },
   "outputs": [
    {
     "data": {
      "text/html": [
       "<div>\n",
       "<style scoped>\n",
       "    .dataframe tbody tr th:only-of-type {\n",
       "        vertical-align: middle;\n",
       "    }\n",
       "\n",
       "    .dataframe tbody tr th {\n",
       "        vertical-align: top;\n",
       "    }\n",
       "\n",
       "    .dataframe thead th {\n",
       "        text-align: right;\n",
       "    }\n",
       "</style>\n",
       "<table border=\"1\" class=\"dataframe\">\n",
       "  <thead>\n",
       "    <tr style=\"text-align: right;\">\n",
       "      <th></th>\n",
       "      <th>position</th>\n",
       "      <th>Ref</th>\n",
       "      <th>Alt</th>\n",
       "    </tr>\n",
       "  </thead>\n",
       "  <tbody>\n",
       "    <tr>\n",
       "      <th>0</th>\n",
       "      <td>734462</td>\n",
       "      <td>A</td>\n",
       "      <td>T</td>\n",
       "    </tr>\n",
       "    <tr>\n",
       "      <th>1</th>\n",
       "      <td>734462</td>\n",
       "      <td>A</td>\n",
       "      <td>T</td>\n",
       "    </tr>\n",
       "    <tr>\n",
       "      <th>2</th>\n",
       "      <td>752721</td>\n",
       "      <td>A</td>\n",
       "      <td>T</td>\n",
       "    </tr>\n",
       "    <tr>\n",
       "      <th>3</th>\n",
       "      <td>752721</td>\n",
       "      <td>G</td>\n",
       "      <td>C</td>\n",
       "    </tr>\n",
       "    <tr>\n",
       "      <th>4</th>\n",
       "      <td>760998</td>\n",
       "      <td>C</td>\n",
       "      <td>G</td>\n",
       "    </tr>\n",
       "  </tbody>\n",
       "</table>\n",
       "</div>"
      ],
      "text/plain": [
       "   position Ref Alt\n",
       "0    734462   A   T\n",
       "1    734462   A   T\n",
       "2    752721   A   T\n",
       "3    752721   G   C\n",
       "4    760998   C   G"
      ]
     },
     "execution_count": 7,
     "metadata": {},
     "output_type": "execute_result"
    }
   ],
   "source": [
    "# Renaming the 'genotype' column to 'Ref' and creating the 'Alt' column\n",
    "expanded_data.rename(columns={'genotype': 'Ref'}, inplace=True)\n",
    "\n",
    "# Function to pair the genotype\n",
    "def pair_genotype(genotype):\n",
    "    pairing = {'A': 'T', 'T': 'A', 'C': 'G', 'G': 'C'}\n",
    "    return pairing.get(genotype, '')\n",
    "\n",
    "# Applying the function to create the 'Alt' column\n",
    "expanded_data['Alt'] = expanded_data['Ref'].apply(pair_genotype)\n",
    "\n",
    "# Saving the updated data to a new CSV file\n",
    "expanded_data.to_csv('Paired_Expanded_23andMe.csv', index=False)\n",
    "\n",
    "# Display the first few rows of the updated dataframe\n",
    "expanded_data.head()"
   ]
  },
  {
   "cell_type": "markdown",
   "id": "266eec32-9503-49f1-b613-26728ef9e11d",
   "metadata": {
    "noteable": {
     "cell_type": "markdown"
    }
   },
   "source": [
    "# Data Cleaning and Processing Steps with Function Descriptions\n",
    "\n",
    "This notebook documents the steps taken to clean and process the 23andMe genetic data, including the functions used. Here's a detailed breakdown of the process:\n",
    "\n",
    "1. **Loading the Data**: Used `pd.read_csv` to load the raw data from '23andMe_data.txt' into a pandas DataFrame. The data includes columns for rsid, chromosome, position, and genotype.\n",
    "\n",
    "2. **Initial Cleaning**: Applied DataFrame methods to remove rows with empty values or '--' in the 'genotype' column, ensuring only valid genetic data is considered.\n",
    "\n",
    "3. **Dropping Unnecessary Columns**: Used `DataFrame.drop` to remove 'rsid' and 'chromosome' columns, focusing on relevant data for analysis.\n",
    "\n",
    "4. **Expanding Genotype Data**: Utilized `DataFrame.set_index` and `Series.explode` to expand the 'genotype' column so each row contains only one gene (A, T, C, or G).\n",
    "\n",
    "5. **Renaming and Pairing Genotypes**: Renamed 'genotype' to 'Ref' using `DataFrame.rename`. Created a custom function `pair_genotype` to pair genotypes (A with T, and C with G) and applied it to form the 'Alt' column.\n",
    "\n",
    "6. **Saving Processed Data**: Saved the processed data into CSV files at each significant step using `DataFrame.to_csv`, facilitating easy access and further analysis."
   ]
  }
 ],
 "metadata": {
  "kernel_info": {
   "name": "python3"
  },
  "kernelspec": {
   "display_name": "Python 3 (ipykernel)",
   "language": "python",
   "name": "python3"
  },
  "language_info": {
   "codemirror_mode": {
    "name": "ipython",
    "version": 3
   },
   "file_extension": ".py",
   "mimetype": "text/x-python",
   "name": "python",
   "nbconvert_exporter": "python",
   "pygments_lexer": "ipython3",
   "version": "3.9.7"
  },
  "noteable-chatgpt": {
   "create_notebook": {
    "openai_conversation_id": "59cb0159-4aed-53db-96f8-991d2c78cb2f",
    "openai_ephemeral_user_id": "ac730b06-e5be-5843-b2e9-823e0cb8dcff",
    "openai_subdivision1_iso_code": "US-WA"
   }
  },
  "selected_hardware_size": "small"
 },
 "nbformat": 4,
 "nbformat_minor": 5
}
