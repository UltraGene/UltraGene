{
 "cells": [
  {
   "cell_type": "code",
   "execution_count": 1,
   "id": "96f18cbd-afc3-43fb-861d-5b693f9a737b",
   "metadata": {
    "ExecuteTime": {
     "end_time": "2023-11-09T20:29:32.438847+00:00",
     "start_time": "2023-11-09T20:29:32.208659+00:00"
    },
    "datalink": {
     "477005dd-b156-4f3d-9f2d-07527032224c": {
      "applied_filters": [],
      "dataframe_info": {
       "default_index_used": true,
       "orig_num_cols": 4,
       "orig_num_rows": 5,
       "orig_size_bytes": 200,
       "truncated_num_cols": 4,
       "truncated_num_rows": 5,
       "truncated_size_bytes": 200,
       "truncated_string_columns": []
      },
      "display_id": "477005dd-b156-4f3d-9f2d-07527032224c",
      "dx_settings": {
       "ALLOW_NOTEABLE_ATTRS": true,
       "COLUMN_SAMPLING_METHOD": "outer",
       "DB_LOCATION": ":memory:",
       "DEV_MODE": false,
       "DISPLAY_MAX_COLUMNS": 100,
       "DISPLAY_MAX_ROWS": 50000,
       "DISPLAY_MODE": "simple",
       "ENABLE_ASSIGNMENT": true,
       "ENABLE_DATALINK": true,
       "FLATTEN_COLUMN_VALUES": true,
       "FLATTEN_INDEX_VALUES": false,
       "GENERATE_DEX_METADATA": false,
       "HTML_TABLE_SCHEMA": false,
       "LOG_LEVEL": 30,
       "MAX_RENDER_SIZE_BYTES": 104857600,
       "MAX_STRING_LENGTH": 250,
       "NUM_PAST_SAMPLES_TRACKED": 3,
       "RANDOM_STATE": 12648430,
       "RESET_INDEX_VALUES": false,
       "ROW_SAMPLING_METHOD": "random",
       "SAMPLING_FACTOR": 0.1,
       "SAMPLING_METHOD": "random",
       "STRINGIFY_COLUMN_VALUES": true,
       "STRINGIFY_INDEX_VALUES": false
      },
      "sample_history": [],
      "sampling_time": "2023-11-09T20:29:32.276237",
      "user_variable_name": null,
      "variable_name": "unk_dataframe_c4ab1d52f18e46cc8cb2a27b64d1c3af"
     }
    },
    "noteable": {
     "cell_type": "code",
     "output_collection_id": "1fa2acb6-5238-46ad-9d7a-22dd118d0f30"
    }
   },
   "outputs": [
    {
     "data": {
      "text/html": [
       "<div>\n",
       "<style scoped>\n",
       "    .dataframe tbody tr th:only-of-type {\n",
       "        vertical-align: middle;\n",
       "    }\n",
       "\n",
       "    .dataframe tbody tr th {\n",
       "        vertical-align: top;\n",
       "    }\n",
       "\n",
       "    .dataframe thead th {\n",
       "        text-align: right;\n",
       "    }\n",
       "</style>\n",
       "<table border=\"1\" class=\"dataframe\">\n",
       "  <thead>\n",
       "    <tr style=\"text-align: right;\">\n",
       "      <th></th>\n",
       "      <th>end_value</th>\n",
       "      <th>Ref</th>\n",
       "      <th>Alt</th>\n",
       "      <th>Functional score</th>\n",
       "    </tr>\n",
       "  </thead>\n",
       "  <tbody>\n",
       "    <tr>\n",
       "      <th>0</th>\n",
       "      <td>60495533</td>\n",
       "      <td>T</td>\n",
       "      <td>G</td>\n",
       "      <td>0.13</td>\n",
       "    </tr>\n",
       "    <tr>\n",
       "      <th>1</th>\n",
       "      <td>60495534</td>\n",
       "      <td>C</td>\n",
       "      <td>A</td>\n",
       "      <td>-0.03</td>\n",
       "    </tr>\n",
       "    <tr>\n",
       "      <th>2</th>\n",
       "      <td>60495534</td>\n",
       "      <td>C</td>\n",
       "      <td>G</td>\n",
       "      <td>-0.02</td>\n",
       "    </tr>\n",
       "    <tr>\n",
       "      <th>3</th>\n",
       "      <td>60495534</td>\n",
       "      <td>C</td>\n",
       "      <td>T</td>\n",
       "      <td>-0.01</td>\n",
       "    </tr>\n",
       "    <tr>\n",
       "      <th>4</th>\n",
       "      <td>60495535</td>\n",
       "      <td>A</td>\n",
       "      <td>C</td>\n",
       "      <td>-0.15</td>\n",
       "    </tr>\n",
       "  </tbody>\n",
       "</table>\n",
       "</div>"
      ],
      "text/plain": [
       "   end_value Ref Alt  Functional score\n",
       "0   60495533   T   G              0.13\n",
       "1   60495534   C   A             -0.03\n",
       "2   60495534   C   G             -0.02\n",
       "3   60495534   C   T             -0.01\n",
       "4   60495535   A   C             -0.15"
      ]
     },
     "execution_count": 1,
     "metadata": {},
     "output_type": "execute_result"
    }
   ],
   "source": [
    "import pandas as pd\n",
    "\n",
    "# Load the data\n",
    "file_path = 'MaveDV_data.csv'\n",
    "data = pd.read_csv(file_path)\n",
    "\n",
    "# Display the first few rows of the dataframe\n",
    "data.head()"
   ]
  },
  {
   "cell_type": "code",
   "execution_count": 2,
   "id": "1d8f0ce5-8076-458a-aae4-6fd289446723",
   "metadata": {
    "ExecuteTime": {
     "end_time": "2023-11-09T20:29:55.748123+00:00",
     "start_time": "2023-11-09T20:29:55.455106+00:00"
    },
    "datalink": {
     "c48d2032-5188-441a-ad8e-2a80c3172e8d": {
      "applied_filters": [],
      "dataframe_info": {
       "default_index_used": true,
       "orig_num_cols": 4,
       "orig_num_rows": 5,
       "orig_size_bytes": 200,
       "truncated_num_cols": 4,
       "truncated_num_rows": 5,
       "truncated_size_bytes": 200,
       "truncated_string_columns": []
      },
      "display_id": "c48d2032-5188-441a-ad8e-2a80c3172e8d",
      "dx_settings": {
       "ALLOW_NOTEABLE_ATTRS": true,
       "COLUMN_SAMPLING_METHOD": "outer",
       "DB_LOCATION": ":memory:",
       "DEV_MODE": false,
       "DISPLAY_MAX_COLUMNS": 100,
       "DISPLAY_MAX_ROWS": 50000,
       "DISPLAY_MODE": "simple",
       "ENABLE_ASSIGNMENT": true,
       "ENABLE_DATALINK": true,
       "FLATTEN_COLUMN_VALUES": true,
       "FLATTEN_INDEX_VALUES": false,
       "GENERATE_DEX_METADATA": false,
       "HTML_TABLE_SCHEMA": false,
       "LOG_LEVEL": 30,
       "MAX_RENDER_SIZE_BYTES": 104857600,
       "MAX_STRING_LENGTH": 250,
       "NUM_PAST_SAMPLES_TRACKED": 3,
       "RANDOM_STATE": 12648430,
       "RESET_INDEX_VALUES": false,
       "ROW_SAMPLING_METHOD": "random",
       "SAMPLING_FACTOR": 0.1,
       "SAMPLING_METHOD": "random",
       "STRINGIFY_COLUMN_VALUES": true,
       "STRINGIFY_INDEX_VALUES": false
      },
      "sample_history": [],
      "sampling_time": "2023-11-09T20:29:55.588735",
      "user_variable_name": null,
      "variable_name": "unk_dataframe_1d1500189e5a461a830a4a3e01758c00"
     }
    },
    "noteable": {
     "cell_type": "code",
     "output_collection_id": "57cf8959-2488-4046-8395-17cc73ac27b5"
    }
   },
   "outputs": [
    {
     "data": {
      "text/html": [
       "<div>\n",
       "<style scoped>\n",
       "    .dataframe tbody tr th:only-of-type {\n",
       "        vertical-align: middle;\n",
       "    }\n",
       "\n",
       "    .dataframe tbody tr th {\n",
       "        vertical-align: top;\n",
       "    }\n",
       "\n",
       "    .dataframe thead th {\n",
       "        text-align: right;\n",
       "    }\n",
       "</style>\n",
       "<table border=\"1\" class=\"dataframe\">\n",
       "  <thead>\n",
       "    <tr style=\"text-align: right;\">\n",
       "      <th></th>\n",
       "      <th>end_value</th>\n",
       "      <th>Ref</th>\n",
       "      <th>Alt</th>\n",
       "      <th>Functional score</th>\n",
       "    </tr>\n",
       "  </thead>\n",
       "  <tbody>\n",
       "    <tr>\n",
       "      <th>10020</th>\n",
       "      <td>396143</td>\n",
       "      <td>G</td>\n",
       "      <td>C</td>\n",
       "      <td>-0.16</td>\n",
       "    </tr>\n",
       "    <tr>\n",
       "      <th>10131</th>\n",
       "      <td>396143</td>\n",
       "      <td>G</td>\n",
       "      <td>T</td>\n",
       "      <td>0.17</td>\n",
       "    </tr>\n",
       "    <tr>\n",
       "      <th>9288</th>\n",
       "      <td>396143</td>\n",
       "      <td>G</td>\n",
       "      <td>G</td>\n",
       "      <td>-0.12</td>\n",
       "    </tr>\n",
       "    <tr>\n",
       "      <th>9909</th>\n",
       "      <td>396143</td>\n",
       "      <td>G</td>\n",
       "      <td>A</td>\n",
       "      <td>-0.09</td>\n",
       "    </tr>\n",
       "    <tr>\n",
       "      <th>10242</th>\n",
       "      <td>396144</td>\n",
       "      <td>G</td>\n",
       "      <td>G</td>\n",
       "      <td>0.34</td>\n",
       "    </tr>\n",
       "  </tbody>\n",
       "</table>\n",
       "</div>"
      ],
      "text/plain": [
       "       end_value Ref Alt  Functional score\n",
       "10020     396143   G   C             -0.16\n",
       "10131     396143   G   T              0.17\n",
       "9288      396143   G   G             -0.12\n",
       "9909      396143   G   A             -0.09\n",
       "10242     396144   G   G              0.34"
      ]
     },
     "execution_count": 2,
     "metadata": {},
     "output_type": "execute_result"
    }
   ],
   "source": [
    "# Sorting the data based on 'end_value' column\n",
    "sorted_data = data.sort_values(by='end_value')\n",
    "\n",
    "# Saving the sorted data into a new CSV file\n",
    "sorted_file_path = 'Sorted_MaveDB.csv'\n",
    "sorted_data.to_csv(sorted_file_path, index=False)\n",
    "\n",
    "# Displaying the first few rows of the sorted dataframe\n",
    "sorted_data.head()"
   ]
  },
  {
   "cell_type": "markdown",
   "id": "cfaa5ce1-7042-4561-997a-a50dcc8140a8",
   "metadata": {
    "noteable": {
     "cell_type": "markdown"
    }
   },
   "source": [
    "## Data Sorting and Exporting Process\n",
    "\n",
    "The following steps were performed on the dataset from 'MaveDV_data.csv':\n",
    "\n",
    "1. **Data Loading:** The dataset was loaded into a pandas DataFrame to enable easy manipulation and analysis.\n",
    "\n",
    "2. **Data Inspection:** The DataFrame consists of four columns - 'Ref', 'end_value', 'Functional score', and 'Alt'. The 'end_value' column, which appears to be a key numerical identifier, was chosen for sorting.\n",
    "\n",
    "3. **Sorting:** The data was sorted based on the 'end_value' column in ascending order. This ensures that the entries are organized from the smallest to the largest 'end_value'.\n",
    "\n",
    "4. **Exporting Sorted Data:** The sorted data was then saved into a new CSV file named 'Sorted_MaveDB.csv'. This file contains the organized data, which can be used for further analysis or record-keeping.\n",
    "\n",
    "These steps provide a systematic approach to handling and organizing the dataset for enhanced readability and usability."
   ]
  }
 ],
 "metadata": {
  "kernel_info": {
   "name": "python3"
  },
  "kernelspec": {
   "display_name": "Python 3 (ipykernel)",
   "language": "python",
   "name": "python3"
  },
  "language_info": {
   "codemirror_mode": {
    "name": "ipython",
    "version": 3
   },
   "file_extension": ".py",
   "mimetype": "text/x-python",
   "name": "python",
   "nbconvert_exporter": "python",
   "pygments_lexer": "ipython3",
   "version": "3.11.5"
  },
  "noteable-chatgpt": {
   "create_notebook": {
    "openai_conversation_id": "a4892e94-d674-5b20-97e2-1e5e0b2a44e3",
    "openai_ephemeral_user_id": "ac730b06-e5be-5843-b2e9-823e0cb8dcff",
    "openai_subdivision1_iso_code": "US-WA"
   }
  },
  "selected_hardware_size": "small"
 },
 "nbformat": 4,
 "nbformat_minor": 5
}
